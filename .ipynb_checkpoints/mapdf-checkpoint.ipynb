{
 "cells": [
  {
   "cell_type": "code",
   "execution_count": 1,
   "id": "9072480e-d748-456d-969b-e04dccbf9d2f",
   "metadata": {},
   "outputs": [],
   "source": [
    "import pandas as pd"
   ]
  },
  {
   "cell_type": "code",
   "execution_count": 2,
   "id": "f0598325-1e74-41ce-8741-31463fe07b51",
   "metadata": {},
   "outputs": [],
   "source": [
    "from patsy import dmatrices"
   ]
  },
  {
   "cell_type": "code",
   "execution_count": 3,
   "id": "d7e7982c-eeb8-4209-83cf-5cbd15104f38",
   "metadata": {},
   "outputs": [],
   "source": [
    "import statsmodels.api as sm"
   ]
  },
  {
   "cell_type": "code",
   "execution_count": 4,
   "id": "ccb3f245-18b0-4553-82b0-55ac188b4325",
   "metadata": {},
   "outputs": [],
   "source": [
    "fertility = sm.datasets.fertility.load_pandas()['data']; # Loading dataset"
   ]
  },
  {
   "cell_type": "code",
   "execution_count": 5,
   "id": "bc6784f7-112c-46a4-9ecf-b0009ed5f005",
   "metadata": {},
   "outputs": [],
   "source": [
    "import matplotlib.pyplot as plt"
   ]
  },
  {
   "cell_type": "code",
   "execution_count": 37,
   "id": "20469994-e8b0-442d-bfc5-85eab53a2008",
   "metadata": {},
   "outputs": [],
   "source": [
    "fertility_transform = fertility.drop(['Indicator Name', 'Indicator Code', 'Country Code'], axis = 1)"
   ]
  },
  {
   "cell_type": "code",
   "execution_count": 41,
   "id": "fc32d383-18e8-4796-b1fc-6bd70affaa22",
   "metadata": {},
   "outputs": [
    {
     "name": "stdout",
     "output_type": "stream",
     "text": [
      "         Country Name   1960   1961   1962   1963   1964   1965   1966   1967  \\\n",
      "0               Aruba  4.820  4.655  4.471  4.271  4.059  3.842  3.625  3.417   \n",
      "1             Andorra    NaN    NaN    NaN    NaN    NaN    NaN    NaN    NaN   \n",
      "2         Afghanistan  7.671  7.671  7.671  7.671  7.671  7.671  7.671  7.671   \n",
      "3              Angola  7.316  7.354  7.385  7.410  7.425  7.430  7.422  7.403   \n",
      "4             Albania  6.186  6.076  5.956  5.833  5.711  5.594  5.483  5.376   \n",
      "..                ...    ...    ...    ...    ...    ...    ...    ...    ...   \n",
      "214       Yemen, Rep.  7.292  7.308  7.328  7.354  7.385  7.418  7.447  7.471   \n",
      "215      South Africa  6.173  6.144  6.103  6.049  5.984  5.911  5.836  5.765   \n",
      "216  Congo, Dem. Rep.  6.001  6.015  6.030  6.048  6.067  6.089  6.111  6.135   \n",
      "217            Zambia  7.018  7.071  7.127  7.184  7.240  7.292  7.338  7.376   \n",
      "218          Zimbabwe  7.158  7.215  7.267  7.311  7.347  7.373  7.391  7.403   \n",
      "\n",
      "      1968  ...   2004   2005   2006   2007   2008   2009   2010   2011  2012  \\\n",
      "0    3.226  ...  1.786  1.769  1.754  1.739  1.726  1.713  1.701  1.690   NaN   \n",
      "1      NaN  ...    NaN    NaN  1.240  1.180  1.250  1.190  1.220    NaN   NaN   \n",
      "2    7.671  ...  7.136  6.930  6.702  6.456  6.196  5.928  5.659  5.395   NaN   \n",
      "3    7.375  ...  6.704  6.657  6.598  6.523  6.434  6.331  6.218  6.099   NaN   \n",
      "4    5.268  ...  2.004  1.919  1.849  1.796  1.761  1.744  1.741  1.748   NaN   \n",
      "..     ...  ...    ...    ...    ...    ...    ...    ...    ...    ...   ...   \n",
      "214  7.491  ...  5.588  5.393  5.199  5.010  4.829  4.658  4.498  4.348   NaN   \n",
      "215  5.700  ...  2.721  2.675  2.627  2.580  2.538  2.500  2.467  2.438   NaN   \n",
      "216  6.161  ...  6.809  6.728  6.642  6.550  6.454  6.354  6.251  6.146   NaN   \n",
      "217  7.405  ...  5.974  5.954  5.932  5.908  5.881  5.849  5.813  5.773   NaN   \n",
      "218  7.411  ...  3.987  3.969  3.941  3.903  3.853  3.792  3.721  3.643   NaN   \n",
      "\n",
      "     2013  \n",
      "0     NaN  \n",
      "1     NaN  \n",
      "2     NaN  \n",
      "3     NaN  \n",
      "4     NaN  \n",
      "..    ...  \n",
      "214   NaN  \n",
      "215   NaN  \n",
      "216   NaN  \n",
      "217   NaN  \n",
      "218   NaN  \n",
      "\n",
      "[219 rows x 55 columns]\n"
     ]
    }
   ],
   "source": [
    "print(fertility_transform)"
   ]
  },
  {
   "cell_type": "code",
   "execution_count": 42,
   "id": "f1e075e7-050e-4e3a-ba46-3b5eca6ed00b",
   "metadata": {},
   "outputs": [
    {
     "data": {
      "text/plain": [
       "Country Name     object\n",
       "1960            float64\n",
       "1961            float64\n",
       "1962            float64\n",
       "1963            float64\n",
       "1964            float64\n",
       "1965            float64\n",
       "1966            float64\n",
       "1967            float64\n",
       "1968            float64\n",
       "1969            float64\n",
       "1970            float64\n",
       "1971            float64\n",
       "1972            float64\n",
       "1973            float64\n",
       "1974            float64\n",
       "1975            float64\n",
       "1976            float64\n",
       "1977            float64\n",
       "1978            float64\n",
       "1979            float64\n",
       "1980            float64\n",
       "1981            float64\n",
       "1982            float64\n",
       "1983            float64\n",
       "1984            float64\n",
       "1985            float64\n",
       "1986            float64\n",
       "1987            float64\n",
       "1988            float64\n",
       "1989            float64\n",
       "1990            float64\n",
       "1991            float64\n",
       "1992            float64\n",
       "1993            float64\n",
       "1994            float64\n",
       "1995            float64\n",
       "1996            float64\n",
       "1997            float64\n",
       "1998            float64\n",
       "1999            float64\n",
       "2000            float64\n",
       "2001            float64\n",
       "2002            float64\n",
       "2003            float64\n",
       "2004            float64\n",
       "2005            float64\n",
       "2006            float64\n",
       "2007            float64\n",
       "2008            float64\n",
       "2009            float64\n",
       "2010            float64\n",
       "2011            float64\n",
       "2012            float64\n",
       "2013            float64\n",
       "dtype: object"
      ]
     },
     "execution_count": 42,
     "metadata": {},
     "output_type": "execute_result"
    }
   ],
   "source": [
    "fertility_transform.dtypes"
   ]
  },
  {
   "cell_type": "code",
   "execution_count": null,
   "id": "7dbb11e1-792b-43b7-b3b5-7321761c3f4a",
   "metadata": {},
   "outputs": [],
   "source": []
  },
  {
   "cell_type": "code",
   "execution_count": null,
   "id": "e867fdba-9067-434e-a5e2-323c7a941ca6",
   "metadata": {},
   "outputs": [],
   "source": []
  },
  {
   "cell_type": "code",
   "execution_count": null,
   "id": "0b0f4c49-5ad0-49f4-9c58-2e0dc4757a33",
   "metadata": {},
   "outputs": [],
   "source": []
  },
  {
   "cell_type": "code",
   "execution_count": null,
   "id": "996fcbc4-8cb8-43a6-90de-42b330268c10",
   "metadata": {},
   "outputs": [],
   "source": []
  },
  {
   "cell_type": "code",
   "execution_count": null,
   "id": "93ef2391-6094-4aa8-a459-ce35cfc80bee",
   "metadata": {},
   "outputs": [],
   "source": []
  },
  {
   "cell_type": "code",
   "execution_count": null,
   "id": "0e9e3418-7e9f-45f8-aeef-1683f37cc5ec",
   "metadata": {},
   "outputs": [],
   "source": []
  },
  {
   "cell_type": "code",
   "execution_count": null,
   "id": "742c3739-f26c-47ec-b971-e108ce57b7e6",
   "metadata": {},
   "outputs": [],
   "source": []
  },
  {
   "cell_type": "code",
   "execution_count": null,
   "id": "d849bb09-bce7-4e6b-90ab-ebdbdb1c8568",
   "metadata": {},
   "outputs": [],
   "source": []
  },
  {
   "cell_type": "code",
   "execution_count": null,
   "id": "e5b3fb2c-e85d-4283-a28f-a1fbd59919fe",
   "metadata": {},
   "outputs": [],
   "source": []
  },
  {
   "cell_type": "code",
   "execution_count": null,
   "id": "bc48c93c-88ae-4034-99e0-e514de133ed6",
   "metadata": {},
   "outputs": [],
   "source": []
  },
  {
   "cell_type": "code",
   "execution_count": null,
   "id": "00e5ae73-d22a-46fc-be6c-c11ec7de14b8",
   "metadata": {},
   "outputs": [],
   "source": []
  },
  {
   "cell_type": "code",
   "execution_count": null,
   "id": "c8972cb6-cfa7-43d6-bd3f-dff5e37f8d39",
   "metadata": {},
   "outputs": [],
   "source": []
  },
  {
   "cell_type": "code",
   "execution_count": null,
   "id": "21196d22-eac7-4284-8d9b-53cc484520c3",
   "metadata": {},
   "outputs": [],
   "source": []
  },
  {
   "cell_type": "code",
   "execution_count": null,
   "id": "b4ac8553-5c6e-41c9-8c57-7c0a770b7147",
   "metadata": {},
   "outputs": [],
   "source": []
  },
  {
   "cell_type": "code",
   "execution_count": null,
   "id": "df652830-e204-4982-86f8-69b5ec60232a",
   "metadata": {},
   "outputs": [],
   "source": []
  },
  {
   "cell_type": "code",
   "execution_count": null,
   "id": "026526cb-b689-4ecf-99fc-81d666a9d3be",
   "metadata": {},
   "outputs": [],
   "source": []
  },
  {
   "cell_type": "code",
   "execution_count": null,
   "id": "1aee402c-d6f2-45b5-b277-960df7150229",
   "metadata": {},
   "outputs": [],
   "source": []
  },
  {
   "cell_type": "code",
   "execution_count": null,
   "id": "a7616fe4-0941-40ef-828e-f343924e1143",
   "metadata": {},
   "outputs": [],
   "source": []
  },
  {
   "cell_type": "code",
   "execution_count": null,
   "id": "d49c9364-29a9-4b8e-a041-1d27a7bebea4",
   "metadata": {},
   "outputs": [],
   "source": []
  },
  {
   "cell_type": "code",
   "execution_count": null,
   "id": "8ee70e50-d916-4d2d-986a-5582e0ddf53e",
   "metadata": {},
   "outputs": [],
   "source": []
  }
 ],
 "metadata": {
  "kernelspec": {
   "display_name": "Python 3",
   "language": "python",
   "name": "python3"
  },
  "language_info": {
   "codemirror_mode": {
    "name": "ipython",
    "version": 3
   },
   "file_extension": ".py",
   "mimetype": "text/x-python",
   "name": "python",
   "nbconvert_exporter": "python",
   "pygments_lexer": "ipython3",
   "version": "3.8.8"
  }
 },
 "nbformat": 4,
 "nbformat_minor": 5
}
