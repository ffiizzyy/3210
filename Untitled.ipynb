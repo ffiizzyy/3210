{
 "cells": [
  {
   "cell_type": "code",
   "execution_count": 1,
   "id": "f2cf1167-d6ba-4d0a-8339-885b6f532429",
   "metadata": {},
   "outputs": [],
   "source": [
    "import pandas as pd"
   ]
  },
  {
   "cell_type": "code",
   "execution_count": 2,
   "id": "0460a019-c84b-4045-8494-69931b9737ea",
   "metadata": {},
   "outputs": [],
   "source": [
    "import statsmodels.api as sm"
   ]
  },
  {
   "cell_type": "code",
   "execution_count": 3,
   "id": "b2412cd0-5182-4547-9244-adfa62c53299",
   "metadata": {},
   "outputs": [],
   "source": [
    "fertility = sm.datasets.fertility.load_pandas()['data']; # Loading dataset\n",
    "fertility1 = fertility.drop(['Indicator Name', 'Indicator Code', 'Country Code'], axis = 1) \n",
    "fertility1 = fertility1.reset_index()\n",
    "fertility1 = fertility1.transpose()"
   ]
  },
  {
   "cell_type": "code",
   "execution_count": null,
   "id": "d676cb92-7c14-47f3-8032-6792ec485929",
   "metadata": {},
   "outputs": [],
   "source": [
    "fertility1.head()"
   ]
  },
  {
   "cell_type": "code",
   "execution_count": null,
   "id": "25d31be4-7d1b-47c0-acc8-aef9026963a7",
   "metadata": {},
   "outputs": [],
   "source": [
    "fertility1 = fertility.rename_axis(\"Year\", axis=\"columns\")"
   ]
  },
  {
   "cell_type": "code",
   "execution_count": null,
   "id": "09d4183f-1fbc-4662-aa20-f32aba957e93",
   "metadata": {},
   "outputs": [],
   "source": [
    "fertility1 = fertility.rename_axis(\"Country Name\", axis=\"index\")"
   ]
  },
  {
   "cell_type": "code",
   "execution_count": 5,
   "id": "71fecc3b-5fc5-4ada-8f3e-56ed39a3234e",
   "metadata": {},
   "outputs": [],
   "source": [
    "fertility = sm.datasets.fertility.load_pandas()['data']; # Loading dataset\n",
    "fertility = fertility.drop(['Indicator Name', 'Indicator Code'], axis = 1) "
   ]
  },
  {
   "cell_type": "code",
   "execution_count": null,
   "id": "afc6a887-3e61-4995-8e78-e843b609d3b8",
   "metadata": {},
   "outputs": [],
   "source": [
    "fertility1 = fertility.rename_axis(\"Year\", axis=\"columns\")"
   ]
  },
  {
   "cell_type": "code",
   "execution_count": 6,
   "id": "7a884727-6220-4161-a2a7-49fb85f18b9c",
   "metadata": {},
   "outputs": [
    {
     "name": "stdout",
     "output_type": "stream",
     "text": [
      "         Country Name Country Code   1960   1961   1962   1963   1964   1965  \\\n",
      "0               Aruba          ABW  4.820  4.655  4.471  4.271  4.059  3.842   \n",
      "1             Andorra          AND    NaN    NaN    NaN    NaN    NaN    NaN   \n",
      "2         Afghanistan          AFG  7.671  7.671  7.671  7.671  7.671  7.671   \n",
      "3              Angola          AGO  7.316  7.354  7.385  7.410  7.425  7.430   \n",
      "4             Albania          ALB  6.186  6.076  5.956  5.833  5.711  5.594   \n",
      "..                ...          ...    ...    ...    ...    ...    ...    ...   \n",
      "214       Yemen, Rep.          YEM  7.292  7.308  7.328  7.354  7.385  7.418   \n",
      "215      South Africa          ZAF  6.173  6.144  6.103  6.049  5.984  5.911   \n",
      "216  Congo, Dem. Rep.          COD  6.001  6.015  6.030  6.048  6.067  6.089   \n",
      "217            Zambia          ZMB  7.018  7.071  7.127  7.184  7.240  7.292   \n",
      "218          Zimbabwe          ZWE  7.158  7.215  7.267  7.311  7.347  7.373   \n",
      "\n",
      "      1966   1967  ...   2004   2005   2006   2007   2008   2009   2010  \\\n",
      "0    3.625  3.417  ...  1.786  1.769  1.754  1.739  1.726  1.713  1.701   \n",
      "1      NaN    NaN  ...    NaN    NaN  1.240  1.180  1.250  1.190  1.220   \n",
      "2    7.671  7.671  ...  7.136  6.930  6.702  6.456  6.196  5.928  5.659   \n",
      "3    7.422  7.403  ...  6.704  6.657  6.598  6.523  6.434  6.331  6.218   \n",
      "4    5.483  5.376  ...  2.004  1.919  1.849  1.796  1.761  1.744  1.741   \n",
      "..     ...    ...  ...    ...    ...    ...    ...    ...    ...    ...   \n",
      "214  7.447  7.471  ...  5.588  5.393  5.199  5.010  4.829  4.658  4.498   \n",
      "215  5.836  5.765  ...  2.721  2.675  2.627  2.580  2.538  2.500  2.467   \n",
      "216  6.111  6.135  ...  6.809  6.728  6.642  6.550  6.454  6.354  6.251   \n",
      "217  7.338  7.376  ...  5.974  5.954  5.932  5.908  5.881  5.849  5.813   \n",
      "218  7.391  7.403  ...  3.987  3.969  3.941  3.903  3.853  3.792  3.721   \n",
      "\n",
      "      2011  2012  2013  \n",
      "0    1.690   NaN   NaN  \n",
      "1      NaN   NaN   NaN  \n",
      "2    5.395   NaN   NaN  \n",
      "3    6.099   NaN   NaN  \n",
      "4    1.748   NaN   NaN  \n",
      "..     ...   ...   ...  \n",
      "214  4.348   NaN   NaN  \n",
      "215  2.438   NaN   NaN  \n",
      "216  6.146   NaN   NaN  \n",
      "217  5.773   NaN   NaN  \n",
      "218  3.643   NaN   NaN  \n",
      "\n",
      "[219 rows x 56 columns]\n"
     ]
    }
   ],
   "source": [
    "print(fertility)"
   ]
  },
  {
   "cell_type": "code",
   "execution_count": null,
   "id": "a829178d-87eb-4469-9f62-0bd7a2319534",
   "metadata": {},
   "outputs": [],
   "source": [
    "fertility = fertility.drop(columns='index')"
   ]
  },
  {
   "cell_type": "code",
   "execution_count": null,
   "id": "eca47288-4589-44eb-8eba-8f46370da841",
   "metadata": {},
   "outputs": [],
   "source": [
    "fertility.head()"
   ]
  },
  {
   "cell_type": "code",
   "execution_count": null,
   "id": "09ff90ac-5a84-49b3-8684-a1825c9277d2",
   "metadata": {},
   "outputs": [],
   "source": [
    "df = fertility.transpose()"
   ]
  },
  {
   "cell_type": "code",
   "execution_count": null,
   "id": "7be273ed-4f3b-42ea-9356-7e9aca692378",
   "metadata": {},
   "outputs": [],
   "source": [
    "df.head()"
   ]
  },
  {
   "cell_type": "code",
   "execution_count": null,
   "id": "a9c9e408-dd84-41e8-b25f-18190553b45b",
   "metadata": {
    "jupyter": {
     "source_hidden": true
    },
    "tags": []
   },
   "outputs": [],
   "source": [
    "df = df.drop(columns='index')"
   ]
  },
  {
   "cell_type": "code",
   "execution_count": null,
   "id": "600fc9e7-525f-41ef-a073-7593a9cc319e",
   "metadata": {},
   "outputs": [],
   "source": [
    "df.insert(2, \"Year\", [NONE, NONE, range(1960, 2013)], True)"
   ]
  },
  {
   "cell_type": "code",
   "execution_count": null,
   "id": "12ee6229-b832-415a-9fed-288ce7b15cc5",
   "metadata": {},
   "outputs": [],
   "source": [
    "df = df.reset_index()"
   ]
  },
  {
   "cell_type": "code",
   "execution_count": null,
   "id": "512c86c9-a7b3-4a30-97ab-30c51dda6ce3",
   "metadata": {},
   "outputs": [],
   "source": []
  },
  {
   "cell_type": "code",
   "execution_count": null,
   "id": "149cc43d-284b-475a-9821-3ed03a7dbd31",
   "metadata": {},
   "outputs": [],
   "source": []
  },
  {
   "cell_type": "code",
   "execution_count": null,
   "id": "77b3ff0e-13a7-41be-8325-f675f78f8822",
   "metadata": {},
   "outputs": [],
   "source": []
  },
  {
   "cell_type": "code",
   "execution_count": null,
   "id": "60675caa-557d-4c17-9d94-2100ff3842a9",
   "metadata": {},
   "outputs": [],
   "source": []
  },
  {
   "cell_type": "code",
   "execution_count": null,
   "id": "c1f4f36d-f103-470e-9def-a3a204f4c83b",
   "metadata": {},
   "outputs": [],
   "source": []
  },
  {
   "cell_type": "code",
   "execution_count": null,
   "id": "429331ac-74cc-4cbc-bece-47facc303800",
   "metadata": {},
   "outputs": [],
   "source": []
  },
  {
   "cell_type": "code",
   "execution_count": null,
   "id": "c1de2647-c3e1-42f8-898c-2f1dd8482ead",
   "metadata": {},
   "outputs": [],
   "source": []
  },
  {
   "cell_type": "code",
   "execution_count": null,
   "id": "a312adfe-adbf-4fbd-a314-54e37850fd94",
   "metadata": {},
   "outputs": [],
   "source": []
  }
 ],
 "metadata": {
  "kernelspec": {
   "display_name": "Python 3",
   "language": "python",
   "name": "python3"
  },
  "language_info": {
   "codemirror_mode": {
    "name": "ipython",
    "version": 3
   },
   "file_extension": ".py",
   "mimetype": "text/x-python",
   "name": "python",
   "nbconvert_exporter": "python",
   "pygments_lexer": "ipython3",
   "version": "3.8.8"
  }
 },
 "nbformat": 4,
 "nbformat_minor": 5
}
