{
 "cells": [
  {
   "cell_type": "code",
   "execution_count": 17,
   "id": "9072480e-d748-456d-969b-e04dccbf9d2f",
   "metadata": {},
   "outputs": [],
   "source": [
    "import pandas as pd"
   ]
  },
  {
   "cell_type": "code",
   "execution_count": 18,
   "id": "f0598325-1e74-41ce-8741-31463fe07b51",
   "metadata": {},
   "outputs": [],
   "source": [
    "from patsy import dmatrices"
   ]
  },
  {
   "cell_type": "code",
   "execution_count": 19,
   "id": "d7e7982c-eeb8-4209-83cf-5cbd15104f38",
   "metadata": {},
   "outputs": [],
   "source": [
    "import statsmodels.api as sm"
   ]
  },
  {
   "cell_type": "code",
   "execution_count": 20,
   "id": "ccb3f245-18b0-4553-82b0-55ac188b4325",
   "metadata": {},
   "outputs": [],
   "source": [
    "fertility = sm.datasets.fertility.load_pandas()['data']; # Loading dataset"
   ]
  },
  {
   "cell_type": "code",
   "execution_count": 21,
   "id": "bc6784f7-112c-46a4-9ecf-b0009ed5f005",
   "metadata": {},
   "outputs": [],
   "source": [
    "import matplotlib.pyplot as plt"
   ]
  },
  {
   "cell_type": "code",
   "execution_count": 29,
   "id": "20469994-e8b0-442d-bfc5-85eab53a2008",
   "metadata": {},
   "outputs": [],
   "source": [
    "fertility_transform = fertility.drop(['Indicator Name', 'Indicator Code'], axis = 1)"
   ]
  },
  {
   "cell_type": "code",
   "execution_count": 30,
   "id": "fc32d383-18e8-4796-b1fc-6bd70affaa22",
   "metadata": {},
   "outputs": [
    {
     "name": "stdout",
     "output_type": "stream",
     "text": [
      "         Country Name Country Code   1960   1961   1962   1963   1964   1965  \\\n",
      "0               Aruba          ABW  4.820  4.655  4.471  4.271  4.059  3.842   \n",
      "1             Andorra          AND    NaN    NaN    NaN    NaN    NaN    NaN   \n",
      "2         Afghanistan          AFG  7.671  7.671  7.671  7.671  7.671  7.671   \n",
      "3              Angola          AGO  7.316  7.354  7.385  7.410  7.425  7.430   \n",
      "4             Albania          ALB  6.186  6.076  5.956  5.833  5.711  5.594   \n",
      "..                ...          ...    ...    ...    ...    ...    ...    ...   \n",
      "214       Yemen, Rep.          YEM  7.292  7.308  7.328  7.354  7.385  7.418   \n",
      "215      South Africa          ZAF  6.173  6.144  6.103  6.049  5.984  5.911   \n",
      "216  Congo, Dem. Rep.          COD  6.001  6.015  6.030  6.048  6.067  6.089   \n",
      "217            Zambia          ZMB  7.018  7.071  7.127  7.184  7.240  7.292   \n",
      "218          Zimbabwe          ZWE  7.158  7.215  7.267  7.311  7.347  7.373   \n",
      "\n",
      "      1966   1967  ...   2004   2005   2006   2007   2008   2009   2010  \\\n",
      "0    3.625  3.417  ...  1.786  1.769  1.754  1.739  1.726  1.713  1.701   \n",
      "1      NaN    NaN  ...    NaN    NaN  1.240  1.180  1.250  1.190  1.220   \n",
      "2    7.671  7.671  ...  7.136  6.930  6.702  6.456  6.196  5.928  5.659   \n",
      "3    7.422  7.403  ...  6.704  6.657  6.598  6.523  6.434  6.331  6.218   \n",
      "4    5.483  5.376  ...  2.004  1.919  1.849  1.796  1.761  1.744  1.741   \n",
      "..     ...    ...  ...    ...    ...    ...    ...    ...    ...    ...   \n",
      "214  7.447  7.471  ...  5.588  5.393  5.199  5.010  4.829  4.658  4.498   \n",
      "215  5.836  5.765  ...  2.721  2.675  2.627  2.580  2.538  2.500  2.467   \n",
      "216  6.111  6.135  ...  6.809  6.728  6.642  6.550  6.454  6.354  6.251   \n",
      "217  7.338  7.376  ...  5.974  5.954  5.932  5.908  5.881  5.849  5.813   \n",
      "218  7.391  7.403  ...  3.987  3.969  3.941  3.903  3.853  3.792  3.721   \n",
      "\n",
      "      2011  2012  2013  \n",
      "0    1.690   NaN   NaN  \n",
      "1      NaN   NaN   NaN  \n",
      "2    5.395   NaN   NaN  \n",
      "3    6.099   NaN   NaN  \n",
      "4    1.748   NaN   NaN  \n",
      "..     ...   ...   ...  \n",
      "214  4.348   NaN   NaN  \n",
      "215  2.438   NaN   NaN  \n",
      "216  6.146   NaN   NaN  \n",
      "217  5.773   NaN   NaN  \n",
      "218  3.643   NaN   NaN  \n",
      "\n",
      "[219 rows x 56 columns]\n"
     ]
    }
   ],
   "source": [
    "print(fertility_transform)"
   ]
  },
  {
   "cell_type": "code",
   "execution_count": 23,
   "id": "f1e075e7-050e-4e3a-ba46-3b5eca6ed00b",
   "metadata": {},
   "outputs": [
    {
     "data": {
      "text/plain": [
       "Country Name     object\n",
       "1960            float64\n",
       "1961            float64\n",
       "1962            float64\n",
       "1963            float64\n",
       "1964            float64\n",
       "1965            float64\n",
       "1966            float64\n",
       "1967            float64\n",
       "1968            float64\n",
       "1969            float64\n",
       "1970            float64\n",
       "1971            float64\n",
       "1972            float64\n",
       "1973            float64\n",
       "1974            float64\n",
       "1975            float64\n",
       "1976            float64\n",
       "1977            float64\n",
       "1978            float64\n",
       "1979            float64\n",
       "1980            float64\n",
       "1981            float64\n",
       "1982            float64\n",
       "1983            float64\n",
       "1984            float64\n",
       "1985            float64\n",
       "1986            float64\n",
       "1987            float64\n",
       "1988            float64\n",
       "1989            float64\n",
       "1990            float64\n",
       "1991            float64\n",
       "1992            float64\n",
       "1993            float64\n",
       "1994            float64\n",
       "1995            float64\n",
       "1996            float64\n",
       "1997            float64\n",
       "1998            float64\n",
       "1999            float64\n",
       "2000            float64\n",
       "2001            float64\n",
       "2002            float64\n",
       "2003            float64\n",
       "2004            float64\n",
       "2005            float64\n",
       "2006            float64\n",
       "2007            float64\n",
       "2008            float64\n",
       "2009            float64\n",
       "2010            float64\n",
       "2011            float64\n",
       "2012            float64\n",
       "2013            float64\n",
       "dtype: object"
      ]
     },
     "execution_count": 23,
     "metadata": {},
     "output_type": "execute_result"
    }
   ],
   "source": [
    "fertility_transform.dtypes"
   ]
  },
  {
   "cell_type": "code",
   "execution_count": 33,
   "id": "7dbb11e1-792b-43b7-b3b5-7321761c3f4a",
   "metadata": {},
   "outputs": [],
   "source": [
    "mapdf= fertility_transform"
   ]
  },
  {
   "cell_type": "code",
   "execution_count": 34,
   "id": "d0b3d4c2-ae35-4e1f-ab9f-746c74f16f54",
   "metadata": {},
   "outputs": [
    {
     "name": "stdout",
     "output_type": "stream",
     "text": [
      "         Country Name Country Code   1960   1961   1962   1963   1964   1965  \\\n",
      "0               Aruba          ABW  4.820  4.655  4.471  4.271  4.059  3.842   \n",
      "1             Andorra          AND    NaN    NaN    NaN    NaN    NaN    NaN   \n",
      "2         Afghanistan          AFG  7.671  7.671  7.671  7.671  7.671  7.671   \n",
      "3              Angola          AGO  7.316  7.354  7.385  7.410  7.425  7.430   \n",
      "4             Albania          ALB  6.186  6.076  5.956  5.833  5.711  5.594   \n",
      "..                ...          ...    ...    ...    ...    ...    ...    ...   \n",
      "214       Yemen, Rep.          YEM  7.292  7.308  7.328  7.354  7.385  7.418   \n",
      "215      South Africa          ZAF  6.173  6.144  6.103  6.049  5.984  5.911   \n",
      "216  Congo, Dem. Rep.          COD  6.001  6.015  6.030  6.048  6.067  6.089   \n",
      "217            Zambia          ZMB  7.018  7.071  7.127  7.184  7.240  7.292   \n",
      "218          Zimbabwe          ZWE  7.158  7.215  7.267  7.311  7.347  7.373   \n",
      "\n",
      "      1966   1967  ...   2004   2005   2006   2007   2008   2009   2010  \\\n",
      "0    3.625  3.417  ...  1.786  1.769  1.754  1.739  1.726  1.713  1.701   \n",
      "1      NaN    NaN  ...    NaN    NaN  1.240  1.180  1.250  1.190  1.220   \n",
      "2    7.671  7.671  ...  7.136  6.930  6.702  6.456  6.196  5.928  5.659   \n",
      "3    7.422  7.403  ...  6.704  6.657  6.598  6.523  6.434  6.331  6.218   \n",
      "4    5.483  5.376  ...  2.004  1.919  1.849  1.796  1.761  1.744  1.741   \n",
      "..     ...    ...  ...    ...    ...    ...    ...    ...    ...    ...   \n",
      "214  7.447  7.471  ...  5.588  5.393  5.199  5.010  4.829  4.658  4.498   \n",
      "215  5.836  5.765  ...  2.721  2.675  2.627  2.580  2.538  2.500  2.467   \n",
      "216  6.111  6.135  ...  6.809  6.728  6.642  6.550  6.454  6.354  6.251   \n",
      "217  7.338  7.376  ...  5.974  5.954  5.932  5.908  5.881  5.849  5.813   \n",
      "218  7.391  7.403  ...  3.987  3.969  3.941  3.903  3.853  3.792  3.721   \n",
      "\n",
      "      2011  2012  2013  \n",
      "0    1.690   NaN   NaN  \n",
      "1      NaN   NaN   NaN  \n",
      "2    5.395   NaN   NaN  \n",
      "3    6.099   NaN   NaN  \n",
      "4    1.748   NaN   NaN  \n",
      "..     ...   ...   ...  \n",
      "214  4.348   NaN   NaN  \n",
      "215  2.438   NaN   NaN  \n",
      "216  6.146   NaN   NaN  \n",
      "217  5.773   NaN   NaN  \n",
      "218  3.643   NaN   NaN  \n",
      "\n",
      "[219 rows x 56 columns]\n"
     ]
    }
   ],
   "source": [
    "print(mapdf)"
   ]
  },
  {
   "cell_type": "code",
   "execution_count": 35,
   "id": "43770e33-b02b-4b94-a1ab-6903b8dbd79b",
   "metadata": {},
   "outputs": [
    {
     "name": "stdout",
     "output_type": "stream",
     "text": [
      "         Country Name Country Code   1960   1961   1962   1963   1964   1965  \\\n",
      "0               Aruba          ABW  4.820  4.655  4.471  4.271  4.059  3.842   \n",
      "1             Andorra          AND    NaN    NaN    NaN    NaN    NaN    NaN   \n",
      "2         Afghanistan          AFG  7.671  7.671  7.671  7.671  7.671  7.671   \n",
      "3              Angola          AGO  7.316  7.354  7.385  7.410  7.425  7.430   \n",
      "4             Albania          ALB  6.186  6.076  5.956  5.833  5.711  5.594   \n",
      "..                ...          ...    ...    ...    ...    ...    ...    ...   \n",
      "214       Yemen, Rep.          YEM  7.292  7.308  7.328  7.354  7.385  7.418   \n",
      "215      South Africa          ZAF  6.173  6.144  6.103  6.049  5.984  5.911   \n",
      "216  Congo, Dem. Rep.          COD  6.001  6.015  6.030  6.048  6.067  6.089   \n",
      "217            Zambia          ZMB  7.018  7.071  7.127  7.184  7.240  7.292   \n",
      "218          Zimbabwe          ZWE  7.158  7.215  7.267  7.311  7.347  7.373   \n",
      "\n",
      "      1966   1967  ...   2004   2005   2006   2007   2008   2009   2010  \\\n",
      "0    3.625  3.417  ...  1.786  1.769  1.754  1.739  1.726  1.713  1.701   \n",
      "1      NaN    NaN  ...    NaN    NaN  1.240  1.180  1.250  1.190  1.220   \n",
      "2    7.671  7.671  ...  7.136  6.930  6.702  6.456  6.196  5.928  5.659   \n",
      "3    7.422  7.403  ...  6.704  6.657  6.598  6.523  6.434  6.331  6.218   \n",
      "4    5.483  5.376  ...  2.004  1.919  1.849  1.796  1.761  1.744  1.741   \n",
      "..     ...    ...  ...    ...    ...    ...    ...    ...    ...    ...   \n",
      "214  7.447  7.471  ...  5.588  5.393  5.199  5.010  4.829  4.658  4.498   \n",
      "215  5.836  5.765  ...  2.721  2.675  2.627  2.580  2.538  2.500  2.467   \n",
      "216  6.111  6.135  ...  6.809  6.728  6.642  6.550  6.454  6.354  6.251   \n",
      "217  7.338  7.376  ...  5.974  5.954  5.932  5.908  5.881  5.849  5.813   \n",
      "218  7.391  7.403  ...  3.987  3.969  3.941  3.903  3.853  3.792  3.721   \n",
      "\n",
      "      2011  2012  2013  \n",
      "0    1.690   NaN   NaN  \n",
      "1      NaN   NaN   NaN  \n",
      "2    5.395   NaN   NaN  \n",
      "3    6.099   NaN   NaN  \n",
      "4    1.748   NaN   NaN  \n",
      "..     ...   ...   ...  \n",
      "214  4.348   NaN   NaN  \n",
      "215  2.438   NaN   NaN  \n",
      "216  6.146   NaN   NaN  \n",
      "217  5.773   NaN   NaN  \n",
      "218  3.643   NaN   NaN  \n",
      "\n",
      "[219 rows x 56 columns]\n"
     ]
    }
   ],
   "source": [
    "print(mapdf)"
   ]
  },
  {
   "cell_type": "code",
   "execution_count": 56,
   "id": "c317645a-3875-4b27-91fa-5d737e427ea9",
   "metadata": {},
   "outputs": [
    {
     "data": {
      "text/html": [
       "<div style=\"width:100%;\"><div style=\"position:relative;width:100%;height:0;padding-bottom:60%;\"><span style=\"color:#565656\">Make this Notebook Trusted to load map: File -> Trust Notebook</span><iframe src=\"about:blank\" style=\"position:absolute;width:100%;height:100%;left:0;top:0;border:none !important;\" data-html=%3C%21DOCTYPE%20html%3E%0A%3Chead%3E%20%20%20%20%0A%20%20%20%20%3Cmeta%20http-equiv%3D%22content-type%22%20content%3D%22text/html%3B%20charset%3DUTF-8%22%20/%3E%0A%20%20%20%20%0A%20%20%20%20%20%20%20%20%3Cscript%3E%0A%20%20%20%20%20%20%20%20%20%20%20%20L_NO_TOUCH%20%3D%20false%3B%0A%20%20%20%20%20%20%20%20%20%20%20%20L_DISABLE_3D%20%3D%20false%3B%0A%20%20%20%20%20%20%20%20%3C/script%3E%0A%20%20%20%20%0A%20%20%20%20%3Cstyle%3Ehtml%2C%20body%20%7Bwidth%3A%20100%25%3Bheight%3A%20100%25%3Bmargin%3A%200%3Bpadding%3A%200%3B%7D%3C/style%3E%0A%20%20%20%20%3Cstyle%3E%23map%20%7Bposition%3Aabsolute%3Btop%3A0%3Bbottom%3A0%3Bright%3A0%3Bleft%3A0%3B%7D%3C/style%3E%0A%20%20%20%20%3Cscript%20src%3D%22https%3A//cdn.jsdelivr.net/npm/leaflet%401.6.0/dist/leaflet.js%22%3E%3C/script%3E%0A%20%20%20%20%3Cscript%20src%3D%22https%3A//code.jquery.com/jquery-1.12.4.min.js%22%3E%3C/script%3E%0A%20%20%20%20%3Cscript%20src%3D%22https%3A//maxcdn.bootstrapcdn.com/bootstrap/3.2.0/js/bootstrap.min.js%22%3E%3C/script%3E%0A%20%20%20%20%3Cscript%20src%3D%22https%3A//cdnjs.cloudflare.com/ajax/libs/Leaflet.awesome-markers/2.0.2/leaflet.awesome-markers.js%22%3E%3C/script%3E%0A%20%20%20%20%3Clink%20rel%3D%22stylesheet%22%20href%3D%22https%3A//cdn.jsdelivr.net/npm/leaflet%401.6.0/dist/leaflet.css%22/%3E%0A%20%20%20%20%3Clink%20rel%3D%22stylesheet%22%20href%3D%22https%3A//maxcdn.bootstrapcdn.com/bootstrap/3.2.0/css/bootstrap.min.css%22/%3E%0A%20%20%20%20%3Clink%20rel%3D%22stylesheet%22%20href%3D%22https%3A//maxcdn.bootstrapcdn.com/bootstrap/3.2.0/css/bootstrap-theme.min.css%22/%3E%0A%20%20%20%20%3Clink%20rel%3D%22stylesheet%22%20href%3D%22https%3A//maxcdn.bootstrapcdn.com/font-awesome/4.6.3/css/font-awesome.min.css%22/%3E%0A%20%20%20%20%3Clink%20rel%3D%22stylesheet%22%20href%3D%22https%3A//cdnjs.cloudflare.com/ajax/libs/Leaflet.awesome-markers/2.0.2/leaflet.awesome-markers.css%22/%3E%0A%20%20%20%20%3Clink%20rel%3D%22stylesheet%22%20href%3D%22https%3A//cdn.jsdelivr.net/gh/python-visualization/folium/folium/templates/leaflet.awesome.rotate.min.css%22/%3E%0A%20%20%20%20%0A%20%20%20%20%20%20%20%20%20%20%20%20%3Cmeta%20name%3D%22viewport%22%20content%3D%22width%3Ddevice-width%2C%0A%20%20%20%20%20%20%20%20%20%20%20%20%20%20%20%20initial-scale%3D1.0%2C%20maximum-scale%3D1.0%2C%20user-scalable%3Dno%22%20/%3E%0A%20%20%20%20%20%20%20%20%20%20%20%20%3Cstyle%3E%0A%20%20%20%20%20%20%20%20%20%20%20%20%20%20%20%20%23map_748f5b1c538746d0ac5eb2b010ff39c2%20%7B%0A%20%20%20%20%20%20%20%20%20%20%20%20%20%20%20%20%20%20%20%20position%3A%20relative%3B%0A%20%20%20%20%20%20%20%20%20%20%20%20%20%20%20%20%20%20%20%20width%3A%20100.0%25%3B%0A%20%20%20%20%20%20%20%20%20%20%20%20%20%20%20%20%20%20%20%20height%3A%20100.0%25%3B%0A%20%20%20%20%20%20%20%20%20%20%20%20%20%20%20%20%20%20%20%20left%3A%200.0%25%3B%0A%20%20%20%20%20%20%20%20%20%20%20%20%20%20%20%20%20%20%20%20top%3A%200.0%25%3B%0A%20%20%20%20%20%20%20%20%20%20%20%20%20%20%20%20%7D%0A%20%20%20%20%20%20%20%20%20%20%20%20%3C/style%3E%0A%20%20%20%20%20%20%20%20%0A%3C/head%3E%0A%3Cbody%3E%20%20%20%20%0A%20%20%20%20%0A%20%20%20%20%20%20%20%20%20%20%20%20%3Cdiv%20class%3D%22folium-map%22%20id%3D%22map_748f5b1c538746d0ac5eb2b010ff39c2%22%20%3E%3C/div%3E%0A%20%20%20%20%20%20%20%20%0A%3C/body%3E%0A%3Cscript%3E%20%20%20%20%0A%20%20%20%20%0A%20%20%20%20%20%20%20%20%20%20%20%20var%20map_748f5b1c538746d0ac5eb2b010ff39c2%20%3D%20L.map%28%0A%20%20%20%20%20%20%20%20%20%20%20%20%20%20%20%20%22map_748f5b1c538746d0ac5eb2b010ff39c2%22%2C%0A%20%20%20%20%20%20%20%20%20%20%20%20%20%20%20%20%7B%0A%20%20%20%20%20%20%20%20%20%20%20%20%20%20%20%20%20%20%20%20center%3A%20%5B10.0%2C%2080.0%5D%2C%0A%20%20%20%20%20%20%20%20%20%20%20%20%20%20%20%20%20%20%20%20crs%3A%20L.CRS.EPSG3857%2C%0A%20%20%20%20%20%20%20%20%20%20%20%20%20%20%20%20%20%20%20%20zoom%3A%203%2C%0A%20%20%20%20%20%20%20%20%20%20%20%20%20%20%20%20%20%20%20%20zoomControl%3A%20true%2C%0A%20%20%20%20%20%20%20%20%20%20%20%20%20%20%20%20%20%20%20%20preferCanvas%3A%20false%2C%0A%20%20%20%20%20%20%20%20%20%20%20%20%20%20%20%20%7D%0A%20%20%20%20%20%20%20%20%20%20%20%20%29%3B%0A%0A%20%20%20%20%20%20%20%20%20%20%20%20%0A%0A%20%20%20%20%20%20%20%20%0A%20%20%20%20%0A%20%20%20%20%20%20%20%20%20%20%20%20var%20tile_layer_ae84630f0f1e42f8921c86911d80d89c%20%3D%20L.tileLayer%28%0A%20%20%20%20%20%20%20%20%20%20%20%20%20%20%20%20%22https%3A//%7Bs%7D.tile.openstreetmap.org/%7Bz%7D/%7Bx%7D/%7By%7D.png%22%2C%0A%20%20%20%20%20%20%20%20%20%20%20%20%20%20%20%20%7B%22attribution%22%3A%20%22Data%20by%20%5Cu0026copy%3B%20%5Cu003ca%20href%3D%5C%22http%3A//openstreetmap.org%5C%22%5Cu003eOpenStreetMap%5Cu003c/a%5Cu003e%2C%20under%20%5Cu003ca%20href%3D%5C%22http%3A//www.openstreetmap.org/copyright%5C%22%5Cu003eODbL%5Cu003c/a%5Cu003e.%22%2C%20%22detectRetina%22%3A%20false%2C%20%22maxNativeZoom%22%3A%2018%2C%20%22maxZoom%22%3A%2018%2C%20%22minZoom%22%3A%200%2C%20%22noWrap%22%3A%20false%2C%20%22opacity%22%3A%201%2C%20%22subdomains%22%3A%20%22abc%22%2C%20%22tms%22%3A%20false%7D%0A%20%20%20%20%20%20%20%20%20%20%20%20%29.addTo%28map_748f5b1c538746d0ac5eb2b010ff39c2%29%3B%0A%20%20%20%20%20%20%20%20%0A%3C/script%3E onload=\"this.contentDocument.open();this.contentDocument.write(    decodeURIComponent(this.getAttribute('data-html')));this.contentDocument.close();\" allowfullscreen webkitallowfullscreen mozallowfullscreen></iframe></div></div>"
      ],
      "text/plain": [
       "<folium.folium.Map at 0x7fd9eb696160>"
      ]
     },
     "execution_count": 56,
     "metadata": {},
     "output_type": "execute_result"
    }
   ],
   "source": [
    "import folium\n",
    "m = folium.Map(location=[10,80], zoom_start=3)\n",
    "m"
   ]
  },
  {
   "cell_type": "code",
   "execution_count": 58,
   "id": "e598dd20-79cf-48d4-940f-4c4dec95fb3a",
   "metadata": {},
   "outputs": [
    {
     "data": {
      "text/html": [
       "<div style=\"width:100%;\"><div style=\"position:relative;width:100%;height:0;padding-bottom:60%;\"><span style=\"color:#565656\">Make this Notebook Trusted to load map: File -> Trust Notebook</span><iframe src=\"about:blank\" style=\"position:absolute;width:100%;height:100%;left:0;top:0;border:none !important;\" data-html=%3C%21DOCTYPE%20html%3E%0A%3Chead%3E%20%20%20%20%0A%20%20%20%20%3Cmeta%20http-equiv%3D%22content-type%22%20content%3D%22text/html%3B%20charset%3DUTF-8%22%20/%3E%0A%20%20%20%20%0A%20%20%20%20%20%20%20%20%3Cscript%3E%0A%20%20%20%20%20%20%20%20%20%20%20%20L_NO_TOUCH%20%3D%20false%3B%0A%20%20%20%20%20%20%20%20%20%20%20%20L_DISABLE_3D%20%3D%20false%3B%0A%20%20%20%20%20%20%20%20%3C/script%3E%0A%20%20%20%20%0A%20%20%20%20%3Cstyle%3Ehtml%2C%20body%20%7Bwidth%3A%20100%25%3Bheight%3A%20100%25%3Bmargin%3A%200%3Bpadding%3A%200%3B%7D%3C/style%3E%0A%20%20%20%20%3Cstyle%3E%23map%20%7Bposition%3Aabsolute%3Btop%3A0%3Bbottom%3A0%3Bright%3A0%3Bleft%3A0%3B%7D%3C/style%3E%0A%20%20%20%20%3Cscript%20src%3D%22https%3A//cdn.jsdelivr.net/npm/leaflet%401.6.0/dist/leaflet.js%22%3E%3C/script%3E%0A%20%20%20%20%3Cscript%20src%3D%22https%3A//code.jquery.com/jquery-1.12.4.min.js%22%3E%3C/script%3E%0A%20%20%20%20%3Cscript%20src%3D%22https%3A//maxcdn.bootstrapcdn.com/bootstrap/3.2.0/js/bootstrap.min.js%22%3E%3C/script%3E%0A%20%20%20%20%3Cscript%20src%3D%22https%3A//cdnjs.cloudflare.com/ajax/libs/Leaflet.awesome-markers/2.0.2/leaflet.awesome-markers.js%22%3E%3C/script%3E%0A%20%20%20%20%3Clink%20rel%3D%22stylesheet%22%20href%3D%22https%3A//cdn.jsdelivr.net/npm/leaflet%401.6.0/dist/leaflet.css%22/%3E%0A%20%20%20%20%3Clink%20rel%3D%22stylesheet%22%20href%3D%22https%3A//maxcdn.bootstrapcdn.com/bootstrap/3.2.0/css/bootstrap.min.css%22/%3E%0A%20%20%20%20%3Clink%20rel%3D%22stylesheet%22%20href%3D%22https%3A//maxcdn.bootstrapcdn.com/bootstrap/3.2.0/css/bootstrap-theme.min.css%22/%3E%0A%20%20%20%20%3Clink%20rel%3D%22stylesheet%22%20href%3D%22https%3A//maxcdn.bootstrapcdn.com/font-awesome/4.6.3/css/font-awesome.min.css%22/%3E%0A%20%20%20%20%3Clink%20rel%3D%22stylesheet%22%20href%3D%22https%3A//cdnjs.cloudflare.com/ajax/libs/Leaflet.awesome-markers/2.0.2/leaflet.awesome-markers.css%22/%3E%0A%20%20%20%20%3Clink%20rel%3D%22stylesheet%22%20href%3D%22https%3A//cdn.jsdelivr.net/gh/python-visualization/folium/folium/templates/leaflet.awesome.rotate.min.css%22/%3E%0A%20%20%20%20%0A%20%20%20%20%20%20%20%20%20%20%20%20%3Cmeta%20name%3D%22viewport%22%20content%3D%22width%3Ddevice-width%2C%0A%20%20%20%20%20%20%20%20%20%20%20%20%20%20%20%20initial-scale%3D1.0%2C%20maximum-scale%3D1.0%2C%20user-scalable%3Dno%22%20/%3E%0A%20%20%20%20%20%20%20%20%20%20%20%20%3Cstyle%3E%0A%20%20%20%20%20%20%20%20%20%20%20%20%20%20%20%20%23map_748f5b1c538746d0ac5eb2b010ff39c2%20%7B%0A%20%20%20%20%20%20%20%20%20%20%20%20%20%20%20%20%20%20%20%20position%3A%20relative%3B%0A%20%20%20%20%20%20%20%20%20%20%20%20%20%20%20%20%20%20%20%20width%3A%20100.0%25%3B%0A%20%20%20%20%20%20%20%20%20%20%20%20%20%20%20%20%20%20%20%20height%3A%20100.0%25%3B%0A%20%20%20%20%20%20%20%20%20%20%20%20%20%20%20%20%20%20%20%20left%3A%200.0%25%3B%0A%20%20%20%20%20%20%20%20%20%20%20%20%20%20%20%20%20%20%20%20top%3A%200.0%25%3B%0A%20%20%20%20%20%20%20%20%20%20%20%20%20%20%20%20%7D%0A%20%20%20%20%20%20%20%20%20%20%20%20%3C/style%3E%0A%20%20%20%20%20%20%20%20%0A%3C/head%3E%0A%3Cbody%3E%20%20%20%20%0A%20%20%20%20%0A%20%20%20%20%20%20%20%20%20%20%20%20%3Cdiv%20class%3D%22folium-map%22%20id%3D%22map_748f5b1c538746d0ac5eb2b010ff39c2%22%20%3E%3C/div%3E%0A%20%20%20%20%20%20%20%20%0A%3C/body%3E%0A%3Cscript%3E%20%20%20%20%0A%20%20%20%20%0A%20%20%20%20%20%20%20%20%20%20%20%20var%20map_748f5b1c538746d0ac5eb2b010ff39c2%20%3D%20L.map%28%0A%20%20%20%20%20%20%20%20%20%20%20%20%20%20%20%20%22map_748f5b1c538746d0ac5eb2b010ff39c2%22%2C%0A%20%20%20%20%20%20%20%20%20%20%20%20%20%20%20%20%7B%0A%20%20%20%20%20%20%20%20%20%20%20%20%20%20%20%20%20%20%20%20center%3A%20%5B10.0%2C%2080.0%5D%2C%0A%20%20%20%20%20%20%20%20%20%20%20%20%20%20%20%20%20%20%20%20crs%3A%20L.CRS.EPSG3857%2C%0A%20%20%20%20%20%20%20%20%20%20%20%20%20%20%20%20%20%20%20%20zoom%3A%203%2C%0A%20%20%20%20%20%20%20%20%20%20%20%20%20%20%20%20%20%20%20%20zoomControl%3A%20true%2C%0A%20%20%20%20%20%20%20%20%20%20%20%20%20%20%20%20%20%20%20%20preferCanvas%3A%20false%2C%0A%20%20%20%20%20%20%20%20%20%20%20%20%20%20%20%20%7D%0A%20%20%20%20%20%20%20%20%20%20%20%20%29%3B%0A%0A%20%20%20%20%20%20%20%20%20%20%20%20%0A%0A%20%20%20%20%20%20%20%20%0A%20%20%20%20%0A%20%20%20%20%20%20%20%20%20%20%20%20var%20tile_layer_ae84630f0f1e42f8921c86911d80d89c%20%3D%20L.tileLayer%28%0A%20%20%20%20%20%20%20%20%20%20%20%20%20%20%20%20%22https%3A//%7Bs%7D.tile.openstreetmap.org/%7Bz%7D/%7Bx%7D/%7By%7D.png%22%2C%0A%20%20%20%20%20%20%20%20%20%20%20%20%20%20%20%20%7B%22attribution%22%3A%20%22Data%20by%20%5Cu0026copy%3B%20%5Cu003ca%20href%3D%5C%22http%3A//openstreetmap.org%5C%22%5Cu003eOpenStreetMap%5Cu003c/a%5Cu003e%2C%20under%20%5Cu003ca%20href%3D%5C%22http%3A//www.openstreetmap.org/copyright%5C%22%5Cu003eODbL%5Cu003c/a%5Cu003e.%22%2C%20%22detectRetina%22%3A%20false%2C%20%22maxNativeZoom%22%3A%2018%2C%20%22maxZoom%22%3A%2018%2C%20%22minZoom%22%3A%200%2C%20%22noWrap%22%3A%20false%2C%20%22opacity%22%3A%201%2C%20%22subdomains%22%3A%20%22abc%22%2C%20%22tms%22%3A%20false%7D%0A%20%20%20%20%20%20%20%20%20%20%20%20%29.addTo%28map_748f5b1c538746d0ac5eb2b010ff39c2%29%3B%0A%20%20%20%20%20%20%20%20%0A%20%20%20%20%0A%20%20%20%20%20%20%20%20%20%20%20%20var%20feature_group_61e76575b2124ea88dfcba411b880cda%20%3D%20L.featureGroup%28%0A%20%20%20%20%20%20%20%20%20%20%20%20%20%20%20%20%7B%7D%0A%20%20%20%20%20%20%20%20%20%20%20%20%29.addTo%28map_748f5b1c538746d0ac5eb2b010ff39c2%29%3B%0A%20%20%20%20%20%20%20%20%0A%20%20%20%20%0A%20%20%20%20%20%20%20%20%20%20%20%20var%20feature_group_237423b2276044dabac657c95525a801%20%3D%20L.featureGroup%28%0A%20%20%20%20%20%20%20%20%20%20%20%20%20%20%20%20%7B%7D%0A%20%20%20%20%20%20%20%20%20%20%20%20%29.addTo%28map_748f5b1c538746d0ac5eb2b010ff39c2%29%3B%0A%20%20%20%20%20%20%20%20%0A%3C/script%3E onload=\"this.contentDocument.open();this.contentDocument.write(    decodeURIComponent(this.getAttribute('data-html')));this.contentDocument.close();\" allowfullscreen webkitallowfullscreen mozallowfullscreen></iframe></div></div>"
      ],
      "text/plain": [
       "<folium.folium.Map at 0x7fd9eb696160>"
      ]
     },
     "execution_count": 58,
     "metadata": {},
     "output_type": "execute_result"
    }
   ],
   "source": [
    "FertilityLayer = folium.FeatureGroup(\"Fertility\")\n",
    "FertilityLayer.add_to(m)\n",
    "m"
   ]
  },
  {
   "cell_type": "code",
   "execution_count": null,
   "id": "a23f0c2e-48d1-4ff5-b830-064b00a81aa1",
   "metadata": {},
   "outputs": [],
   "source": []
  },
  {
   "cell_type": "code",
   "execution_count": null,
   "id": "e867fdba-9067-434e-a5e2-323c7a941ca6",
   "metadata": {},
   "outputs": [],
   "source": []
  },
  {
   "cell_type": "code",
   "execution_count": null,
   "id": "0b0f4c49-5ad0-49f4-9c58-2e0dc4757a33",
   "metadata": {},
   "outputs": [],
   "source": []
  },
  {
   "cell_type": "code",
   "execution_count": null,
   "id": "996fcbc4-8cb8-43a6-90de-42b330268c10",
   "metadata": {},
   "outputs": [],
   "source": []
  },
  {
   "cell_type": "code",
   "execution_count": null,
   "id": "93ef2391-6094-4aa8-a459-ce35cfc80bee",
   "metadata": {},
   "outputs": [],
   "source": []
  },
  {
   "cell_type": "code",
   "execution_count": null,
   "id": "0e9e3418-7e9f-45f8-aeef-1683f37cc5ec",
   "metadata": {},
   "outputs": [],
   "source": []
  },
  {
   "cell_type": "code",
   "execution_count": null,
   "id": "742c3739-f26c-47ec-b971-e108ce57b7e6",
   "metadata": {},
   "outputs": [],
   "source": []
  },
  {
   "cell_type": "code",
   "execution_count": null,
   "id": "d849bb09-bce7-4e6b-90ab-ebdbdb1c8568",
   "metadata": {},
   "outputs": [],
   "source": []
  },
  {
   "cell_type": "code",
   "execution_count": null,
   "id": "e5b3fb2c-e85d-4283-a28f-a1fbd59919fe",
   "metadata": {},
   "outputs": [],
   "source": []
  },
  {
   "cell_type": "code",
   "execution_count": null,
   "id": "bc48c93c-88ae-4034-99e0-e514de133ed6",
   "metadata": {},
   "outputs": [],
   "source": []
  },
  {
   "cell_type": "code",
   "execution_count": null,
   "id": "00e5ae73-d22a-46fc-be6c-c11ec7de14b8",
   "metadata": {},
   "outputs": [],
   "source": []
  },
  {
   "cell_type": "code",
   "execution_count": null,
   "id": "c8972cb6-cfa7-43d6-bd3f-dff5e37f8d39",
   "metadata": {},
   "outputs": [],
   "source": []
  },
  {
   "cell_type": "code",
   "execution_count": null,
   "id": "21196d22-eac7-4284-8d9b-53cc484520c3",
   "metadata": {},
   "outputs": [],
   "source": []
  },
  {
   "cell_type": "code",
   "execution_count": null,
   "id": "b4ac8553-5c6e-41c9-8c57-7c0a770b7147",
   "metadata": {},
   "outputs": [],
   "source": []
  },
  {
   "cell_type": "code",
   "execution_count": null,
   "id": "df652830-e204-4982-86f8-69b5ec60232a",
   "metadata": {},
   "outputs": [],
   "source": []
  },
  {
   "cell_type": "code",
   "execution_count": null,
   "id": "026526cb-b689-4ecf-99fc-81d666a9d3be",
   "metadata": {},
   "outputs": [],
   "source": []
  },
  {
   "cell_type": "code",
   "execution_count": null,
   "id": "1aee402c-d6f2-45b5-b277-960df7150229",
   "metadata": {},
   "outputs": [],
   "source": []
  },
  {
   "cell_type": "code",
   "execution_count": null,
   "id": "a7616fe4-0941-40ef-828e-f343924e1143",
   "metadata": {},
   "outputs": [],
   "source": []
  },
  {
   "cell_type": "code",
   "execution_count": null,
   "id": "d49c9364-29a9-4b8e-a041-1d27a7bebea4",
   "metadata": {},
   "outputs": [],
   "source": []
  },
  {
   "cell_type": "code",
   "execution_count": null,
   "id": "8ee70e50-d916-4d2d-986a-5582e0ddf53e",
   "metadata": {},
   "outputs": [],
   "source": []
  }
 ],
 "metadata": {
  "kernelspec": {
   "display_name": "Python 3",
   "language": "python",
   "name": "python3"
  },
  "language_info": {
   "codemirror_mode": {
    "name": "ipython",
    "version": 3
   },
   "file_extension": ".py",
   "mimetype": "text/x-python",
   "name": "python",
   "nbconvert_exporter": "python",
   "pygments_lexer": "ipython3",
   "version": "3.8.8"
  }
 },
 "nbformat": 4,
 "nbformat_minor": 5
}
